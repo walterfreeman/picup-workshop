{
 "cells": [
  {
   "cell_type": "code",
   "execution_count": null,
   "metadata": {},
   "outputs": [],
   "source": [
    "from pylab import *\n",
    "%matplotlib inline"
   ]
  },
  {
   "cell_type": "markdown",
   "metadata": {},
   "source": [
    "The following function will compute the probability density as a function of both position and time given some initial state, $\\psi(x, 0)$, and some potential energy function, $V(x)$."
   ]
  },
  {
   "cell_type": "code",
   "execution_count": null,
   "metadata": {},
   "outputs": [],
   "source": [
    "def evolve(realPsi0, imagPsi0, V_x, dx, dt, Nx, Nt):\n",
    "    ''' Computes the time evolution of quantum wave packet\n",
    "        Input:\n",
    "            realPsi0: 1D array of real(psi) vs x at time t=0\n",
    "            imagPsi0: 1D array of imag(psi) vs x at time t=0\n",
    "            V_x: 1D array of potential energy V(x)\n",
    "            dx: Discretization of space, delta x, in Angstroms\n",
    "            dt: Value of the time step (in units of femtoseconds)\n",
    "            Nt: Number of time steps to be simulated\n",
    "        Output:\n",
    "            2D complext array: psi versus t and x ([t] then [x])\n",
    "    '''\n",
    "    hbar_alpha = 0.1157 # hbar in units of m_electron*nm^2 / fs for use in alpha\n",
    "    hbar_beta  = 0.6582 # hbar in units of eV * fs for use in beta\n",
    "    \n",
    "    alpha = hbar_alpha*dt / (2*dx**2)\n",
    "    beta  = V_x * dt / hbar_beta\n",
    "    \n",
    "    # Create 2D arrays [time][space]\n",
    "    psi = zeros( (Nt, Nx), dtype=np.complex128 ) # COMPLEX\n",
    "    R   = zeros( (Nt, Nx) )\n",
    "    I   = zeros( (Nt, Nx) )\n",
    "    \n",
    "    # Initial state:\n",
    "    R[0] = realPsi0\n",
    "    I[0] = imagPsi0\n",
    "    \n",
    "    # Initial half-step update for imaginary part\n",
    "    for i in range(1, Nx-1):\n",
    "        d2R = R[0][i-1] + R[0][i+1] - 2*R[0][i]\n",
    "        deltaI = alpha*d2R - beta[i]*R[0][i]\n",
    "        I[0][i] = I[0][i] + 0.5*deltaI # HALF of a time step (Euler)\n",
    "    \n",
    "    for n in range(1, Nt): # Loop over time,  n\n",
    "        \n",
    "        for i in range(1, Nx-1):  # Loop over space, i, to update the REAL PART\n",
    "            d2I = I[n-1][i-1] + I[n-1][i+1] - 2*I[n-1][i]\n",
    "            deltaR = -alpha*d2I + beta[i]*I[n-1][i]\n",
    "            R[n][i] = R[n-1][i] + deltaR\n",
    "                \n",
    "        for i in range(1, Nx-1):  # Loop over space, i, to update the IMAGINARY\n",
    "            d2R = R[n][i-1] + R[n][i+1] - 2*R[n][i]\n",
    "            deltaI =  alpha*d2R - beta[i]*R[n][i]\n",
    "            I[n][i] = I[n-1][i] + deltaI\n",
    "        \n",
    "        I_avg = 0.5*(I[n-1] + I[n]) # Use I from immediately before & after\n",
    "        psi[n] = R[n] + 1j*I_avg    # Finishing one time step\n",
    "    return psi"
   ]
  },
  {
   "cell_type": "markdown",
   "metadata": {},
   "source": [
    "The following cell can be used to compile a function to make it faster, such that the compiled Python code will have execution times more like traditional compiled programming languages."
   ]
  },
  {
   "cell_type": "code",
   "execution_count": null,
   "metadata": {},
   "outputs": [],
   "source": [
    "from numba import complex128, int64, double, jit # \"jit\": \"Just In Time compiler\"\n",
    "evolve_numba = jit(complex128[:,:]\\\n",
    "                   (double[:],double[:],double[:],double,double,int64,int64),\\\n",
    "                   nopython=True)(evolve)"
   ]
  },
  {
   "cell_type": "code",
   "execution_count": null,
   "metadata": {},
   "outputs": [],
   "source": [
    "from time import sleep # To set the animation frame rate \n",
    "from IPython.display import clear_output # To redraw\n",
    "\n",
    "def animate_tx(tArray, xArray, yArray, numFrames=20):\n",
    "    '''Creates and displays an animation of z(x,t)\n",
    "    Input:\n",
    "        tArray: 1D array of time values\n",
    "        xArray: 1D array of position values\n",
    "        yArray: 2D array of y[time][position]\n",
    "        (optional): # of frames to display, evenly\n",
    "                    spaced from tArray[0] to tArray[-1]\n",
    "    '''\n",
    "    # Min & Max values for vertical axis of plot\n",
    "    yMin = np.min(yArray)\n",
    "    yMax = np.max(yArray)\n",
    "    \n",
    "    tNum = size(tArray) # Number of TOTAL time values...\n",
    "    for i in range(0, tNum, tNum // (numFrames-1)):\n",
    "        sleep(0.05) # Sets the maximum animation speed\n",
    "        plot(xArray, yArray[i])\n",
    "        ylim([yMin, yMax])\n",
    "        xlabel('Position (nm)')\n",
    "        ylabel('$\\\\rho(x)$ (1/nm)')\n",
    "        titleString = \"Time (fs): \" + str(tArray[i])\n",
    "        title(titleString)\n",
    "        clear_output(wait=True)\n",
    "        grid(True); show()"
   ]
  },
  {
   "cell_type": "markdown",
   "metadata": {},
   "source": [
    "Starting with the initial wave packet,\n",
    "$$\\psi(x,0) = \\frac{1}{\\sqrt{a\\sqrt{\\pi}}} \\exp\\left(-\\frac{(x-x_0)^2}{2a^2}\\right) \\exp(ik_0x) $$\n",
    "where $a$, $x_0$, and $k_0$ are constant (user-defined) parameters."
   ]
  },
  {
   "cell_type": "code",
   "execution_count": null,
   "metadata": {},
   "outputs": [],
   "source": [
    "# PARAMETERS:\n",
    "Nx = 512   # Number of x values (Need the ratio dt / (dx)^2 to be small)\n",
    "Nt = 10001 # Number of t values (Need the ratio dt / (dx)^2 to be small)\n",
    "L  = 10.0  # Right edge of \"box\" in nm\n",
    "tMax = 12.0 # Maximum time in femtoseconds\n",
    "x0 = 3.0   # Initial peak of gaussian in position basis\n",
    "k0 = 10.0   # Initial peak of gaussian in monentum space\n",
    "a  = 0.5   # Width of gaussian in position space\n",
    "\n",
    "x = linspace(0, L, Nx)\n",
    "V = zeros(Nx)\n",
    "\n",
    "#V = 10*x\n",
    "\n",
    "#V = zeros(Nx)\n",
    "#V[230:260] = +3\n",
    "\n",
    "dx = L    / (Nx - 1)\n",
    "dt = tMax / (Nt - 1)\n",
    "\n",
    "A = 1.0 / sqrt(a * sqrt(pi))\n",
    "psi0 = A * exp(-(x-x0)**2 / (2*a**2)) * exp(1j*k0*x) # INTIAL QUANTUM STATE\n",
    "realPsi0 = real(psi0)\n",
    "imagPsi0 = imag(psi0)\n",
    "\n",
    "# COMPUTE!\n",
    "psi = evolve_numba(realPsi0, imagPsi0, V, dx, dt, Nx, Nt)\n",
    "rho = abs(psi)**2\n",
    "t = linspace(0, tMax, Nt) # Will be used for plotting"
   ]
  },
  {
   "cell_type": "code",
   "execution_count": null,
   "metadata": {},
   "outputs": [],
   "source": [
    "# Checking normalization\n",
    "from scipy.integrate import simps\n",
    "simps(rho[-1], x)"
   ]
  },
  {
   "cell_type": "code",
   "execution_count": null,
   "metadata": {},
   "outputs": [],
   "source": [
    "# Create animation\n",
    "animate_tx(t, x, rho, numFrames=50)"
   ]
  },
  {
   "cell_type": "code",
   "execution_count": null,
   "metadata": {},
   "outputs": [],
   "source": [
    "# Create 2D contour plot\n",
    "contourf(x, t, rho, 100)\n",
    "title('Probability Density (1/nm)')\n",
    "xlabel('Position (nm)')\n",
    "ylabel('Time (femtoseconds)')\n",
    "colorbar()\n",
    "show()"
   ]
  },
  {
   "cell_type": "markdown",
   "metadata": {},
   "source": [
    "**FFT and Momentum Space:**\n",
    "\n",
    "**Add detailed comments to describe what is happening in the following function \"`transform(x, psi)`\".**"
   ]
  },
  {
   "cell_type": "code",
   "execution_count": null,
   "metadata": {},
   "outputs": [],
   "source": [
    "def transform(x, psi):\n",
    "    Nt, Nx = shape(psi)\n",
    "    dx = x[1]-x[0]\n",
    "    k = linspace(-pi/dx, pi/dx, Nx)\n",
    "    f = zeros( (Nt,Nx), dtype=np.complex128 )\n",
    "    for i in range(Nt):\n",
    "        f[i] = psi[i] * exp(-1j * x * k[0])\n",
    "    \n",
    "    psi_k = dx/sqrt(2*pi) * fft(f, axis=1)\n",
    "    return k, psi_k"
   ]
  },
  {
   "cell_type": "code",
   "execution_count": null,
   "metadata": {},
   "outputs": [],
   "source": [
    "k, psi_k = transform(x, psi)\n",
    "rho_k = abs(psi_k)**2\n",
    "print('Checking normalization:')\n",
    "simps(rho_k[-1], k)"
   ]
  },
  {
   "cell_type": "code",
   "execution_count": null,
   "metadata": {},
   "outputs": [],
   "source": [
    "def side_by_side_contour(x, rho, k, rho_k, t, kmin=-10, kmax=10):\n",
    "    '''\n",
    "    Displays side-by-side contour plots showing\n",
    "    rho(x,t) and rho(k,t)'''\n",
    "    \n",
    "    f, (ax1, ax2) = plt.subplots(1, 2, sharey=True)\n",
    "    \n",
    "    ax1.contourf(x, t, rho, 100)\n",
    "    ax1.set_xlabel('Position (nm)')\n",
    "    ax1.set_ylabel('Time (femtoseconds)')\n",
    "    ax1.set_title('$\\\\rho$(x,t) (1/nm)')\n",
    "    ax1.grid(True)\n",
    "    \n",
    "    ax2.contourf(k, t, rho_k, 100)\n",
    "    ax2.set_xlabel('k (1/nm)')\n",
    "    ax2.set_title('$\\\\rho$(k,t) (nm)')\n",
    "    ax2.grid(True)\n",
    "    ax2.set_xlim([kmin, kmax])\n",
    "    \n",
    "    show()\n",
    "\n",
    "def side_by_side_animation(x, rho, k, rho_k, t, \\\n",
    "                           numFrames = 20, kmin=-10, kmax=10):\n",
    "    '''\n",
    "    Displays side-by-side animations showing\n",
    "    rho(x) and rho(k), each evolving with time.'''\n",
    "    \n",
    "    # Min & Max values for vertical axis of both plots\n",
    "    min1 = np.min(rho)\n",
    "    max1 = np.max(rho)\n",
    "    min2 = np.min(rho_k)\n",
    "    max2 = np.max(rho_k)\n",
    "    \n",
    "    tNum = size(t) # Number of TOTAL time values...\n",
    "    for i in range(0, tNum, tNum // (numFrames-1)):\n",
    "        sleep(0.05) # Sets the maximum animation speed\n",
    "        \n",
    "        f, (ax1, ax2) = plt.subplots(1, 2)\n",
    "        ax1.plot(x, rho[i])\n",
    "        ax1.set_ylim([min1, max1])\n",
    "        ax1.set_xlabel('Position (nm)')\n",
    "        ax1.set_ylabel('$\\\\rho(x)$ (1/nm)')\n",
    "        ax1.grid(True)\n",
    "        titleString = \"Time (fs): \" + str(t[i])\n",
    "        ax1.set_title(titleString)\n",
    "        \n",
    "        ax2.plot(k, rho_k[i])\n",
    "        ax2.set_xlim([kmin, kmax])\n",
    "        ax2.set_ylim([min2, max2])\n",
    "        ax2.set_xlabel('k (1/nm)')\n",
    "        ax2.set_ylabel('$\\\\rho(k)$ (nm)')\n",
    "        ax2.grid(True)\n",
    "        \n",
    "        tight_layout()\n",
    "        clear_output(wait=True)\n",
    "        show()"
   ]
  },
  {
   "cell_type": "code",
   "execution_count": null,
   "metadata": {},
   "outputs": [],
   "source": [
    "side_by_side_animation(x, rho, k, rho_k, t, \\\n",
    "                       numFrames = 20, kmin=-3.5*k0, kmax=3.5*k0)"
   ]
  },
  {
   "cell_type": "code",
   "execution_count": null,
   "metadata": {},
   "outputs": [],
   "source": [
    "side_by_side_contour(x, rho, k, rho_k, t, kmin=-3.5*k0, kmax=3.5*k0)"
   ]
  },
  {
   "cell_type": "code",
   "execution_count": null,
   "metadata": {},
   "outputs": [],
   "source": []
  }
 ],
 "metadata": {
  "anaconda-cloud": {},
  "kernelspec": {
   "display_name": "Python 3",
   "language": "python",
   "name": "python3"
  },
  "language_info": {
   "codemirror_mode": {
    "name": "ipython",
    "version": 3
   },
   "file_extension": ".py",
   "mimetype": "text/x-python",
   "name": "python",
   "nbconvert_exporter": "python",
   "pygments_lexer": "ipython3",
   "version": "3.7.0"
  }
 },
 "nbformat": 4,
 "nbformat_minor": 1
}
